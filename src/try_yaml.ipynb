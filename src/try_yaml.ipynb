{
 "cells": [
  {
   "cell_type": "code",
   "execution_count": 2,
   "metadata": {},
   "outputs": [],
   "source": [
    "import yaml\n",
    "with open(\"settings.yaml\") as f:\n",
    "    settings = yaml.safe_load(f)"
   ]
  },
  {
   "cell_type": "code",
   "execution_count": 4,
   "metadata": {},
   "outputs": [
    {
     "data": {
      "text/plain": [
       "{'mqtt': {'hostname': '192.168.178.63',\n",
       "  'port': 1883,\n",
       "  'user': 'mqtt_user',\n",
       "  'password': 'pipimann'},\n",
       " 'deviceName': 'pi3',\n",
       " 'client_id': 'client_id_not_set',\n",
       " 'timezone': 'Europe/Brussels',\n",
       " 'update_interval': 60,\n",
       " 'sensors': {'hostname': True,\n",
       "  'host_ip': True,\n",
       "  'temperature': True,\n",
       "  'wifi_strength': True}}"
      ]
     },
     "execution_count": 4,
     "metadata": {},
     "output_type": "execute_result"
    }
   ],
   "source": [
    "settings"
   ]
  },
  {
   "cell_type": "code",
   "execution_count": null,
   "metadata": {},
   "outputs": [],
   "source": []
  }
 ],
 "metadata": {
  "kernelspec": {
   "display_name": "cv_env",
   "language": "python",
   "name": "python3"
  },
  "language_info": {
   "codemirror_mode": {
    "name": "ipython",
    "version": 3
   },
   "file_extension": ".py",
   "mimetype": "text/x-python",
   "name": "python",
   "nbconvert_exporter": "python",
   "pygments_lexer": "ipython3",
   "version": "3.10.5"
  },
  "orig_nbformat": 4,
  "vscode": {
   "interpreter": {
    "hash": "e330d2aa18c78571c8c10719e56b3ceb66907a62b5ad9143d155ff4541405166"
   }
  }
 },
 "nbformat": 4,
 "nbformat_minor": 2
}
